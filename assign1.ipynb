{
 "cells": [
  {
   "attachments": {
    "download.jfif": {
     "image/jpeg": "[encoded data removed]"
    }
   },
   "cell_type": "markdown",
   "id": "6730fecf",
   "metadata": {},
   "source": [
    "## Assignment 1: Machine Learning Methods\n",
    "\n",
    "### \\<Ravi Trivedi> \\<a1827896>\n",
    "\n",
    "#### How can we use data analytics to predict energy usage for this house?\n",
    "\n",
    "![download.jfif](attachment:download.jfif)\n"
   ]
  },
  {
   "cell_type": "markdown",
   "id": "3df2aac6",
   "metadata": {},
   "source": [
    "### 1. Read the dataset"
   ]
  },
  {
   "cell_type": "code",
   "execution_count": 1,
   "id": "e967e07b",
   "metadata": {},
   "outputs": [
    {
     "data": {
      "text/html": [
       "<div>\n",
       "<style scoped>\n",
       "    .dataframe tbody tr th:only-of-type {\n",
       "        vertical-align: middle;\n",
       "    }\n",
       "\n",
       "    .dataframe tbody tr th {\n",
       "        vertical-align: top;\n",
       "    }\n",
       "\n",
       "    .dataframe thead th {\n",
       "        text-align: right;\n",
       "    }\n",
       "</style>\n",
       "<table border=\"1\" class=\"dataframe\">\n",
       "  <thead>\n",
       "    <tr style=\"text-align: right;\">\n",
       "      <th></th>\n",
       "      <th>Appliances</th>\n",
       "      <th>lights</th>\n",
       "      <th>T1</th>\n",
       "      <th>RH_1</th>\n",
       "      <th>T2</th>\n",
       "      <th>RH_2</th>\n",
       "      <th>T3</th>\n",
       "      <th>RH_3</th>\n",
       "      <th>T4</th>\n",
       "      <th>RH_4</th>\n",
       "      <th>...</th>\n",
       "      <th>T9</th>\n",
       "      <th>RH_9</th>\n",
       "      <th>T_out</th>\n",
       "      <th>Press_mm_hg</th>\n",
       "      <th>RH_out</th>\n",
       "      <th>Windspeed</th>\n",
       "      <th>Visibility</th>\n",
       "      <th>Tdewpoint</th>\n",
       "      <th>rv1</th>\n",
       "      <th>rv2</th>\n",
       "    </tr>\n",
       "  </thead>\n",
       "  <tbody>\n",
       "    <tr>\n",
       "      <th>count</th>\n",
       "      <td>19735.000000</td>\n",
       "      <td>19735.000000</td>\n",
       "      <td>19735.000000</td>\n",
       "      <td>19735.000000</td>\n",
       "      <td>19735.000000</td>\n",
       "      <td>19735.000000</td>\n",
       "      <td>19735.000000</td>\n",
       "      <td>19735.000000</td>\n",
       "      <td>19735.000000</td>\n",
       "      <td>19735.000000</td>\n",
       "      <td>...</td>\n",
       "      <td>19735.000000</td>\n",
       "      <td>19735.000000</td>\n",
       "      <td>19735.000000</td>\n",
       "      <td>19735.000000</td>\n",
       "      <td>19735.000000</td>\n",
       "      <td>19735.000000</td>\n",
       "      <td>19735.000000</td>\n",
       "      <td>19735.000000</td>\n",
       "      <td>19735.000000</td>\n",
       "      <td>19735.000000</td>\n",
       "    </tr>\n",
       "    <tr>\n",
       "      <th>mean</th>\n",
       "      <td>97.694958</td>\n",
       "      <td>3.801875</td>\n",
       "      <td>21.686571</td>\n",
       "      <td>40.259739</td>\n",
       "      <td>20.341219</td>\n",
       "      <td>40.420420</td>\n",
       "      <td>22.267611</td>\n",
       "      <td>39.242500</td>\n",
       "      <td>20.855335</td>\n",
       "      <td>39.026904</td>\n",
       "      <td>...</td>\n",
       "      <td>19.485828</td>\n",
       "      <td>41.552401</td>\n",
       "      <td>7.411665</td>\n",
       "      <td>755.522602</td>\n",
       "      <td>79.750418</td>\n",
       "      <td>4.039752</td>\n",
       "      <td>38.330834</td>\n",
       "      <td>3.760707</td>\n",
       "      <td>24.988033</td>\n",
       "      <td>24.988033</td>\n",
       "    </tr>\n",
       "    <tr>\n",
       "      <th>std</th>\n",
       "      <td>102.524891</td>\n",
       "      <td>7.935988</td>\n",
       "      <td>1.606066</td>\n",
       "      <td>3.979299</td>\n",
       "      <td>2.192974</td>\n",
       "      <td>4.069813</td>\n",
       "      <td>2.006111</td>\n",
       "      <td>3.254576</td>\n",
       "      <td>2.042884</td>\n",
       "      <td>4.341321</td>\n",
       "      <td>...</td>\n",
       "      <td>2.014712</td>\n",
       "      <td>4.151497</td>\n",
       "      <td>5.317409</td>\n",
       "      <td>7.399441</td>\n",
       "      <td>14.901088</td>\n",
       "      <td>2.451221</td>\n",
       "      <td>11.794719</td>\n",
       "      <td>4.194648</td>\n",
       "      <td>14.496634</td>\n",
       "      <td>14.496634</td>\n",
       "    </tr>\n",
       "    <tr>\n",
       "      <th>min</th>\n",
       "      <td>10.000000</td>\n",
       "      <td>0.000000</td>\n",
       "      <td>16.790000</td>\n",
       "      <td>27.023333</td>\n",
       "      <td>16.100000</td>\n",
       "      <td>20.463333</td>\n",
       "      <td>17.200000</td>\n",
       "      <td>28.766667</td>\n",
       "      <td>15.100000</td>\n",
       "      <td>27.660000</td>\n",
       "      <td>...</td>\n",
       "      <td>14.890000</td>\n",
       "      <td>29.166667</td>\n",
       "      <td>-5.000000</td>\n",
       "      <td>729.300000</td>\n",
       "      <td>24.000000</td>\n",
       "      <td>0.000000</td>\n",
       "      <td>1.000000</td>\n",
       "      <td>-6.600000</td>\n",
       "      <td>0.005322</td>\n",
       "      <td>0.005322</td>\n",
       "    </tr>\n",
       "    <tr>\n",
       "      <th>25%</th>\n",
       "      <td>50.000000</td>\n",
       "      <td>0.000000</td>\n",
       "      <td>20.760000</td>\n",
       "      <td>37.333333</td>\n",
       "      <td>18.790000</td>\n",
       "      <td>37.900000</td>\n",
       "      <td>20.790000</td>\n",
       "      <td>36.900000</td>\n",
       "      <td>19.530000</td>\n",
       "      <td>35.530000</td>\n",
       "      <td>...</td>\n",
       "      <td>18.000000</td>\n",
       "      <td>38.500000</td>\n",
       "      <td>3.666667</td>\n",
       "      <td>750.933333</td>\n",
       "      <td>70.333333</td>\n",
       "      <td>2.000000</td>\n",
       "      <td>29.000000</td>\n",
       "      <td>0.900000</td>\n",
       "      <td>12.497889</td>\n",
       "      <td>12.497889</td>\n",
       "    </tr>\n",
       "    <tr>\n",
       "      <th>50%</th>\n",
       "      <td>60.000000</td>\n",
       "      <td>0.000000</td>\n",
       "      <td>21.600000</td>\n",
       "      <td>39.656667</td>\n",
       "      <td>20.000000</td>\n",
       "      <td>40.500000</td>\n",
       "      <td>22.100000</td>\n",
       "      <td>38.530000</td>\n",
       "      <td>20.666667</td>\n",
       "      <td>38.400000</td>\n",
       "      <td>...</td>\n",
       "      <td>19.390000</td>\n",
       "      <td>40.900000</td>\n",
       "      <td>6.916667</td>\n",
       "      <td>756.100000</td>\n",
       "      <td>83.666667</td>\n",
       "      <td>3.666667</td>\n",
       "      <td>40.000000</td>\n",
       "      <td>3.433333</td>\n",
       "      <td>24.897653</td>\n",
       "      <td>24.897653</td>\n",
       "    </tr>\n",
       "    <tr>\n",
       "      <th>75%</th>\n",
       "      <td>100.000000</td>\n",
       "      <td>0.000000</td>\n",
       "      <td>22.600000</td>\n",
       "      <td>43.066667</td>\n",
       "      <td>21.500000</td>\n",
       "      <td>43.260000</td>\n",
       "      <td>23.290000</td>\n",
       "      <td>41.760000</td>\n",
       "      <td>22.100000</td>\n",
       "      <td>42.156667</td>\n",
       "      <td>...</td>\n",
       "      <td>20.600000</td>\n",
       "      <td>44.338095</td>\n",
       "      <td>10.408333</td>\n",
       "      <td>760.933333</td>\n",
       "      <td>91.666667</td>\n",
       "      <td>5.500000</td>\n",
       "      <td>40.000000</td>\n",
       "      <td>6.566667</td>\n",
       "      <td>37.583769</td>\n",
       "      <td>37.583769</td>\n",
       "    </tr>\n",
       "    <tr>\n",
       "      <th>max</th>\n",
       "      <td>1080.000000</td>\n",
       "      <td>70.000000</td>\n",
       "      <td>26.260000</td>\n",
       "      <td>63.360000</td>\n",
       "      <td>29.856667</td>\n",
       "      <td>56.026667</td>\n",
       "      <td>29.236000</td>\n",
       "      <td>50.163333</td>\n",
       "      <td>26.200000</td>\n",
       "      <td>51.090000</td>\n",
       "      <td>...</td>\n",
       "      <td>24.500000</td>\n",
       "      <td>53.326667</td>\n",
       "      <td>26.100000</td>\n",
       "      <td>772.300000</td>\n",
       "      <td>100.000000</td>\n",
       "      <td>14.000000</td>\n",
       "      <td>66.000000</td>\n",
       "      <td>15.500000</td>\n",
       "      <td>49.996530</td>\n",
       "      <td>49.996530</td>\n",
       "    </tr>\n",
       "  </tbody>\n",
       "</table>\n",
       "<p>8 rows × 28 columns</p>\n",
       "</div>"
      ],
      "text/plain": [
       "         Appliances        lights            T1          RH_1            T2  \\\n",
       "count  19735.000000  19735.000000  19735.000000  19735.000000  19735.000000   \n",
       "mean      97.694958      3.801875     21.686571     40.259739     20.341219   \n",
       "std      102.524891      7.935988      1.606066      3.979299      2.192974   \n",
       "min       10.000000      0.000000     16.790000     27.023333     16.100000   \n",
       "25%       50.000000      0.000000     20.760000     37.333333     18.790000   \n",
       "50%       60.000000      0.000000     21.600000     39.656667     20.000000   \n",
       "75%      100.000000      0.000000     22.600000     43.066667     21.500000   \n",
       "max     1080.000000     70.000000     26.260000     63.360000     29.856667   \n",
       "\n",
       "               RH_2            T3          RH_3            T4          RH_4  \\\n",
       "count  19735.000000  19735.000000  19735.000000  19735.000000  19735.000000   \n",
       "mean      40.420420     22.267611     39.242500     20.855335     39.026904   \n",
       "std        4.069813      2.006111      3.254576      2.042884      4.341321   \n",
       "min       20.463333     17.200000     28.766667     15.100000     27.660000   \n",
       "25%       37.900000     20.790000     36.900000     19.530000     35.530000   \n",
       "50%       40.500000     22.100000     38.530000     20.666667     38.400000   \n",
       "75%       43.260000     23.290000     41.760000     22.100000     42.156667   \n",
       "max       56.026667     29.236000     50.163333     26.200000     51.090000   \n",
       "\n",
       "       ...            T9          RH_9         T_out   Press_mm_hg  \\\n",
       "count  ...  19735.000000  19735.000000  19735.000000  19735.000000   \n",
       "mean   ...     19.485828     41.552401      7.411665    755.522602   \n",
       "std    ...      2.014712      4.151497      5.317409      7.399441   \n",
       "min    ...     14.890000     29.166667     -5.000000    729.300000   \n",
       "25%    ...     18.000000     38.500000      3.666667    750.933333   \n",
       "50%    ...     19.390000     40.900000      6.916667    756.100000   \n",
       "75%    ...     20.600000     44.338095     10.408333    760.933333   \n",
       "max    ...     24.500000     53.326667     26.100000    772.300000   \n",
       "\n",
       "             RH_out     Windspeed    Visibility     Tdewpoint           rv1  \\\n",
       "count  19735.000000  19735.000000  19735.000000  19735.000000  19735.000000   \n",
       "mean      79.750418      4.039752     38.330834      3.760707     24.988033   \n",
       "std       14.901088      2.451221     11.794719      4.194648     14.496634   \n",
       "min       24.000000      0.000000      1.000000     -6.600000      0.005322   \n",
       "25%       70.333333      2.000000     29.000000      0.900000     12.497889   \n",
       "50%       83.666667      3.666667     40.000000      3.433333     24.897653   \n",
       "75%       91.666667      5.500000     40.000000      6.566667     37.583769   \n",
       "max      100.000000     14.000000     66.000000     15.500000     49.996530   \n",
       "\n",
       "                rv2  \n",
       "count  19735.000000  \n",
       "mean      24.988033  \n",
       "std       14.496634  \n",
       "min        0.005322  \n",
       "25%       12.497889  \n",
       "50%       24.897653  \n",
       "75%       37.583769  \n",
       "max       49.996530  \n",
       "\n",
       "[8 rows x 28 columns]"
      ]
     },
     "execution_count": 1,
     "metadata": {},
     "output_type": "execute_result"
    }
   ],
   "source": [
    "import pandas as pd\n",
    "import numpy as np\n",
    "from sklearn.linear_model import LinearRegression\n",
    "from sklearn.metrics import mean_squared_error, r2_score\n",
    "df=pd.read_csv('energydata_complete-1.csv')\n",
    "\n",
    "df.describe()\n",
    "\n",
    "#Checking datatypes of each columns\n",
    "#print(df.dtypes)\n",
    "\n"
   ]
  },
  {
   "cell_type": "markdown",
   "id": "31d75afc",
   "metadata": {},
   "source": [
    "### 2. Analyse and visualise the data"
   ]
  },
  {
   "cell_type": "code",
   "execution_count": null,
   "id": "3e5e4161",
   "metadata": {},
   "outputs": [],
   "source": [
    "The correlation matrix can be used to determine a relationship or dependency between any columns or characteristics that have a high correlation with either the dependent variable or with one another. The correlation coefficient between any two variables is represented by each element of the correlation matrix, which is a square matrix. The diagonal components represent the constant one association between each variable and itself. Because regardless of the sequence, there is always a correlation between two factors.The correlation coefficient ranges from -1 to 1, with values of -1 and 1 designating ideal negative and positive correlations, respectively.  When the numbers are positive, there is a positive correlation between the variables, while when they are negative, there is a negative correlation. \n",
    "Based on the realtions between dependent and independent variable we are implmenting Multilinear regression model, Random Forest Regression and Support Vector machine in terms of Classifcation and regression.\n"
   ]
  },
  {
   "cell_type": "code",
   "execution_count": 172,
   "id": "2d286790",
   "metadata": {},
   "outputs": [
    {
     "data": {
      "image/png": "[encoded data removed]",
      "text/plain": [
       "<Figure size 640x480 with 2 Axes>"
      ]
     },
     "metadata": {},
     "output_type": "display_data"
    },
    {
     "name": "stdout",
     "output_type": "stream",
     "text": [
      "RH_out        -0.152282\n",
      "RH_8          -0.094039\n",
      "RH_6          -0.083178\n",
      "RH_2          -0.060465\n",
      "RH_7          -0.055642\n",
      "RH_9          -0.051462\n",
      "Press_mm_hg   -0.034885\n",
      "rv1           -0.011145\n",
      "rv2           -0.011145\n",
      "Visibility     0.000230\n",
      "RH_5           0.006955\n",
      "T9             0.010010\n",
      "Tdewpoint      0.015353\n",
      "RH_4           0.016965\n",
      "T5             0.019760\n",
      "T7             0.025801\n",
      "RH_3           0.036292\n",
      "T8             0.039572\n",
      "T4             0.040281\n",
      "T1             0.055447\n",
      "T3             0.085060\n",
      "RH_1           0.086031\n",
      "Windspeed      0.087122\n",
      "T_out          0.099155\n",
      "T6             0.117638\n",
      "T2             0.120073\n",
      "lights         0.197278\n",
      "Appliances     1.000000\n",
      "Name: Appliances, dtype: float64\n"
     ]
    }
   ],
   "source": [
    "\n",
    "# Preprocessing\n",
    "# Dropping the missing value \n",
    "#Removing All the Null values \n",
    "df = df.dropna()\n",
    "#Removing unncessary columns from dataframe \n",
    "#df=df.drop(columns='date')\n",
    "#Visualization \n",
    "import pandas as pd\n",
    "import seaborn as sns\n",
    "import matplotlib.pyplot as plt\n",
    "\n",
    "# Creating a correlation matrix\n",
    "corr = df.corr()\n",
    "# Creating a heatmap\n",
    "sns.heatmap(corr, cmap='coolwarm')\n",
    "# Showing the plot\n",
    "plt.show()\n",
    "#Identify the strongest relationship between dependent and independent variable\n",
    "print(corr['Appliances'].sort_values(ascending=False))\n",
    "#df"
   ]
  },
  {
   "cell_type": "code",
   "execution_count": 159,
   "id": "c0530942",
   "metadata": {},
   "outputs": [
    {
     "name": "stdout",
     "output_type": "stream",
     "text": [
      "<class 'pandas.core.frame.DataFrame'>\n",
      "RangeIndex: 19735 entries, 0 to 19734\n",
      "Data columns (total 28 columns):\n",
      " #   Column       Non-Null Count  Dtype  \n",
      "---  ------       --------------  -----  \n",
      " 0   Appliances   19735 non-null  int64  \n",
      " 1   lights       19735 non-null  int64  \n",
      " 2   T1           19735 non-null  float64\n",
      " 3   RH_1         19735 non-null  float64\n",
      " 4   T2           19735 non-null  float64\n",
      " 5   RH_2         19735 non-null  float64\n",
      " 6   T3           19735 non-null  float64\n",
      " 7   RH_3         19735 non-null  float64\n",
      " 8   T4           19735 non-null  float64\n",
      " 9   RH_4         19735 non-null  float64\n",
      " 10  T5           19735 non-null  float64\n",
      " 11  RH_5         19735 non-null  float64\n",
      " 12  T6           19735 non-null  float64\n",
      " 13  RH_6         19735 non-null  float64\n",
      " 14  T7           19735 non-null  float64\n",
      " 15  RH_7         19735 non-null  float64\n",
      " 16  T8           19735 non-null  float64\n",
      " 17  RH_8         19735 non-null  float64\n",
      " 18  T9           19735 non-null  float64\n",
      " 19  RH_9         19735 non-null  float64\n",
      " 20  T_out        19735 non-null  float64\n",
      " 21  Press_mm_hg  19735 non-null  float64\n",
      " 22  RH_out       19735 non-null  float64\n",
      " 23  Windspeed    19735 non-null  float64\n",
      " 24  Visibility   19735 non-null  float64\n",
      " 25  Tdewpoint    19735 non-null  float64\n",
      " 26  rv1          19735 non-null  float64\n",
      " 27  rv2          19735 non-null  float64\n",
      "dtypes: float64(26), int64(2)\n",
      "memory usage: 4.2 MB\n"
     ]
    }
   ],
   "source": [
    "\n",
    "df.info()\n"
   ]
  },
  {
   "cell_type": "code",
   "execution_count": 174,
   "id": "0064a7cc",
   "metadata": {},
   "outputs": [
    {
     "data": {
      "image/png": "[encoded data removed]",
      "text/plain": [
       "<Figure size 640x480 with 1 Axes>"
      ]
     },
     "metadata": {},
     "output_type": "display_data"
    }
   ],
   "source": [
    "#Visualizing the strongly realted dependent and independent variables according to corelation matrix \n",
    "# Create a scatter plot\n",
    "x = df[['Appliances']]\n",
    "y= df['lights']\n",
    "plt.scatter(x, y)\n",
    "plt.xlabel('Appliance')\n",
    "plt.ylabel('Light')\n",
    "plt.title('Scatter Plot for showing lights and Appliances')\n",
    "plt.show()\n"
   ]
  },
  {
   "cell_type": "markdown",
   "id": "333cefa8",
   "metadata": {},
   "source": [
    "### 3. Implement prediction models"
   ]
  },
  {
   "cell_type": "code",
   "execution_count": 152,
   "id": "f298bfa8",
   "metadata": {},
   "outputs": [
    {
     "name": "stdout",
     "output_type": "stream",
     "text": [
      "Mean squared error:  9681.48217323696\n",
      "R-squared:  0.1501574095441457\n"
     ]
    }
   ],
   "source": [
    "#Multi linear regression \n",
    "import numpy as np\n",
    "from sklearn.linear_model import LinearRegression\n",
    "from sklearn.model_selection import train_test_split\n",
    "\n",
    "X = df[['lights','T1','RH_1','T2','RH_2','T3','RH_3','T4','RH_4','T5','RH_5','T6','RH_6','T7','RH_7','T8','RH_8','T9','RH_9','T_out','Press_mm_hg','Windspeed','Visibility','RH_out','rv1','rv2']]\n",
    "y = df['Appliances']\n",
    "X_train, X_test, y_train, y_test = train_test_split(X, y, test_size=0.2, random_state=0)\n",
    "#Multi linear Regression Train the training data\n",
    "# regressor = LinearRegression()\n",
    "# regressor.fit(X_train, y_train)\n",
    "\n",
    "#Multi linear regression predictions on the testing data \n",
    "# y_pred = regressor.predict(X_test)\n",
    "#Multi linear regression to evaluate Mutli linear regression model\n",
    "# from sklearn.metrics import mean_squared_error, r2_score\n",
    "\n",
    "# mse = mean_squared_error(y_test, y_pred)\n",
    "# r_squared = r2_score(y_test, y_pred)\n",
    "\n",
    "# print('Mean squared error: ', mse)\n",
    "# print('R-squared: ', r_squared)"
   ]
  },
  {
   "cell_type": "code",
   "execution_count": 141,
   "id": "30632881",
   "metadata": {},
   "outputs": [
    {
     "name": "stdout",
     "output_type": "stream",
     "text": [
      "Accuracy: 0.25285026602482896\n",
      "R2 score: -0.08871873177677214\n",
      "Mean Squared Error: 10894.907524702305\n"
     ]
    }
   ],
   "source": [
    "#Support Vector Machine(SVM)\n",
    "import pandas as pd\n",
    "import numpy as np\n",
    "from sklearn.svm import SVC\n",
    "from sklearn.model_selection import train_test_split\n",
    "from sklearn.preprocessing import StandardScaler\n",
    "from sklearn.metrics import accuracy_score\n",
    "\n",
    "# Extract the input features (X) and target variable (y) from the DataFrame\n",
    "X = df[['lights','T1','RH_1','T2','RH_2','T3','RH_3','T4','RH_4','T5','RH_5','T6','RH_6','T7','RH_7','T8','RH_8','T9','RH_9','T_out','Press_mm_hg','Windspeed','Visibility','Tdewpoint',\n",
    "'RH_out','Windspeed','rv1','rv2']]\n",
    "y = df['Appliances'] \n",
    "\n",
    "# Split the dataset into training and testing sets\n",
    "X_train, X_test, y_train, y_test = train_test_split(X, y, test_size=0.2, random_state=42)\n",
    "\n",
    "# Scale the input features\n",
    "scaler = StandardScaler()\n",
    "X_train_scaled = scaler.fit_transform(X_train)\n",
    "X_test_scaled = scaler.transform(X_test)\n",
    "\n",
    "# Create an SVM classifier object\n",
    "svm_classifier = SVC(kernel='linear')\n",
    "\n",
    "# Train the SVM model on the scaled training data\n",
    "# svm_classifier.fit(X_train_scaled, y_train)\n",
    "\n",
    "# Use the SVM model to make predictions on the scaled testing data\n",
    "# y_pred = svm_classifier.predict(X_test_scaled)\n",
    "\n",
    "# # Calculate the accuracy score of the SVM model\n",
    "# accuracy = accuracy_score(y_test, y_pred)\n",
    "# print('Accuracy:', accuracy)\n",
    "# from sklearn.metrics import r2_score\n",
    "# # #   calculate the R2 score\n",
    "# r2 = r2_score(y_test, y_pred)\n",
    "# # #  print the R2 score\n",
    "# print(\"R2 score:\", r2)\n",
    "# from sklearn.metrics import mean_squared_error\n",
    "# import numpy as np\n",
    "# from sklearn.metrics import r2_score\n",
    "# mse = mean_squared_error(y_test, y_pred)\n",
    "# # rmse = np.sqrt(mse)\n",
    "# print('Mean Squared Error:', mse)"
   ]
  },
  {
   "cell_type": "code",
   "execution_count": 179,
   "id": "c292820d",
   "metadata": {},
   "outputs": [
    {
     "name": "stdout",
     "output_type": "stream",
     "text": [
      "R2 score: 0.42319925151897586\n",
      "Mean Squared Error: 6570.965290093742\n"
     ]
    }
   ],
   "source": [
    "\n",
    "#Random Forest Tree\n",
    "from sklearn.ensemble import RandomForestClassifier\n",
    "from sklearn.model_selection import train_test_split\n",
    "# Load your data and split it into training and testing sets\n",
    "\n",
    "x=df.drop(['Appliances'],axis='columns')\n",
    "\n",
    "y=df['Appliances']\n",
    "\n",
    "X_train, X_test, y_train, y_test = train_test_split(x,y,test_size=0.2,random_state=0)\n",
    "\n",
    "# Create a Random Forest classifier with 100 trees\n",
    "rf = RandomForestClassifier(n_estimators=100)\n",
    "\n",
    "#Comment out below line to test \n",
    "# rf.fit(X_train, y_train)\n",
    "# y_pred = rf.predict(X_test)\n",
    "# from sklearn.metrics import r2_score\n",
    "# #   calculate the R2 score\n",
    "# r2 = r2_score(y_test, y_pred)\n",
    "# #  print the R2 score\n",
    "# print(\"R2 score:\", r2)\n",
    "# from sklearn.metrics import mean_squared_error\n",
    "# import numpy as np\n",
    "# from sklearn.metrics import r2_score\n",
    "# #Random Forest evaluate the accuracy of the classifier\n",
    "# accuracy = rf.score(X_test, y_test)\n",
    "# mse = mean_squared_error(y_test, y_pred)\n",
    "# #rmse = np.sqrt(mse)\n",
    "# print('Mean Squared Error:', mse)\n",
    "\n"
   ]
  },
  {
   "cell_type": "markdown",
   "id": "067cebcf",
   "metadata": {},
   "source": [
    "### 4. Train prediction models"
   ]
  },
  {
   "cell_type": "code",
   "execution_count": null,
   "id": "23c816a9",
   "metadata": {},
   "outputs": [],
   "source": [
    "#Multi linear Regression Train the training data\n",
    "from sklearn.linear_model import LinearRegression\n",
    "regressor = LinearRegression()\n",
    "regressor.fit(X_train, y_train)"
   ]
  },
  {
   "cell_type": "code",
   "execution_count": 65,
   "id": "441e2dd3",
   "metadata": {},
   "outputs": [
    {
     "data": {
      "text/plain": [
       "RandomForestClassifier(random_state=42)"
      ]
     },
     "execution_count": 65,
     "metadata": {},
     "output_type": "execute_result"
    }
   ],
   "source": [
    "# Random Forest Train the classifier on the training data\n",
    "rf.fit(X_train, y_train)"
   ]
  },
  {
   "cell_type": "code",
   "execution_count": null,
   "id": "36c2f21f",
   "metadata": {},
   "outputs": [],
   "source": [
    "# Train the SVM model on the scaled training data\n",
    "svm_classifier.fit(X_train_scaled, y_train)\n"
   ]
  },
  {
   "cell_type": "markdown",
   "id": "333ba5cb",
   "metadata": {},
   "source": [
    "### 5. Test predictin models and show results"
   ]
  },
  {
   "cell_type": "code",
   "execution_count": 176,
   "id": "58a6ebe4",
   "metadata": {},
   "outputs": [
    {
     "name": "stdout",
     "output_type": "stream",
     "text": [
      "Mean squared error:  9681.48217323696\n",
      "R-squared:  0.1501574095441457\n"
     ]
    }
   ],
   "source": [
    "#Multi linear regression predictions on the testing data \n",
    "y_pred = regressor.predict(X_test)\n",
    "\n",
    "#Multi linear regression to evaluate Mutli linear regression model\n",
    "from sklearn.metrics import mean_squared_error, r2_score\n",
    "\n",
    "mse = mean_squared_error(y_test, y_pred)\n",
    "r_squared = r2_score(y_test, y_pred)\n",
    "\n",
    "print('Mean squared error: ', mse)\n",
    "print('R-squared: ', r_squared)"
   ]
  },
  {
   "cell_type": "code",
   "execution_count": 2,
   "id": "9138d901",
   "metadata": {},
   "outputs": [],
   "source": [
    "#Random forest Make predictions on the testing data\n",
    "y_pred = rf.predict(X_test)\n",
    "\n",
    "from sklearn.metrics import mean_squared_error\n",
    "import numpy as np\n",
    "from sklearn.metrics import r2_score\n",
    "#Random Forest evaluate the accuracy of the classifier\n",
    "#accuracy = rf.score(X_test, y_test)\n",
    "mse = mean_squared_error(y_test, y_pred)\n",
    "#rmse = np.sqrt(mse)\n",
    "print('Mean Squared Error:', mse)\n",
    "# calculate the R2 score\n",
    "r2 = r2_score(y_test, y_pred)\n",
    "# print the R2 score\n",
    "print(\"R2 score:\", r2)\n"
   ]
  },
  {
   "cell_type": "code",
   "execution_count": null,
   "id": "90e30dc8",
   "metadata": {},
   "outputs": [],
   "source": [
    "#Support Vector Machine predictions on the testing data\n",
    "y_pred = sc_y.inverse_transform(regressor.predict(X_test))\n",
    "\n",
    "from sklearn.metrics import mean_squared_error\n",
    "from sklearn.metrics import r2_score\n",
    "# Calculate the accuracy score of the SVM model\n",
    "accuracy = accuracy_score(y_test, y_pred)\n",
    "print('Accuracy:', accuracy)\n",
    "#   calculate the R2 score\n",
    "r2 = r2_score(y_test, y_pred)\n",
    "#  print the R2 score\n",
    "print(\"R2 score:\", r2)\n",
    "mse = mean_squared_error(y_test, y_pred)\n",
    "print('Mean Squared Error:', mse)"
   ]
  },
  {
   "cell_type": "markdown",
   "id": "ba7ea3a2",
   "metadata": {},
   "source": [
    "### 6. Compare the results from all candidate models, choose the best model, justify your choice and discuss the results"
   ]
  },
  {
   "cell_type": "code",
   "execution_count": null,
   "id": "f47f0754",
   "metadata": {},
   "outputs": [],
   "source": [
    "We have calculated a few parameters for each regression model in order to compare different models. The variance between the dependent and independent factors has been measured by the R2 coefficient of determination. So, in order to determine which model is the best, we are looking at the R2 value for each model. In order to calculate the average difference between real and predicted values, we are also calculating mean squared error (MSE). Based on the mentioned factor, it can be concluded that the Random Forest Tree is the best model among those mentioned, as its R2 square value is the greatest of the regression models mentioned."
   ]
  },
  {
   "cell_type": "markdown",
   "id": "8d9ff3f9",
   "metadata": {},
   "source": [
    "### 7. Reflect on what you have learned by completing this assignment"
   ]
  },
  {
   "cell_type": "code",
   "execution_count": null,
   "id": "99cf2087",
   "metadata": {},
   "outputs": [],
   "source": [
    "This assignment's completion has given me a lot of worthwhile lessons. First and foremost, I now understand the significance of preparation and data visualisation in machine learning tasks. Understanding data dependencies and the connections between various features is essential for choosing the right model and enhancing efficiency.\n",
    "In this assignment, I have examined the dataset and determined the pertinent features for predicting the energy usage of appliances using a variety of visualization methods, including scatter plots and correlation matrices.\n",
    "Second, I've gained knowledge of various machine learning algorithms, including their benefits and drawbacks. I have tried with  various models for this assignment: Support Vector Machine (SVM) regression, Random Forest and Multi linear regression. \n",
    "I now understand how crucial it is to choose the right evaluation criteria for machine learning models. As success metrics for assessing the models, I used the mean square error (MSE) and the coefficient of determination (R-squared). \n",
    "I have gained practical experience using machine learning techniques to solve real-world issues as a result of this project, and I have learned the value of preprocessing,visualization,model selection and evaluation."
   ]
  },
  {
   "cell_type": "markdown",
   "id": "9d3a91b4",
   "metadata": {},
   "source": [
    "### 8. References"
   ]
  }
 ],
 "metadata": {
  "kernelspec": {
   "display_name": "Python 3 (ipykernel)",
   "language": "python",
   "name": "python3"
  },
  "language_info": {
   "codemirror_mode": {
    "name": "ipython",
    "version": 3
   },
   "file_extension": ".py",
   "mimetype": "text/x-python",
   "name": "python",
   "nbconvert_exporter": "python",
   "pygments_lexer": "ipython3",
   "version": "3.9.13"
  }
 },
 "nbformat": 4,
 "nbformat_minor": 5
}
